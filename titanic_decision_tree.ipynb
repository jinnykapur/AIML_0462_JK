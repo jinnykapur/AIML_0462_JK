{
 "cells": [
  {
   "cell_type": "code",
   "execution_count": 5,
   "metadata": {},
   "outputs": [],
   "source": [
    "import numpy as np\n",
    "import pandas as pd\n",
    "import csv"
   ]
  },
  {
   "cell_type": "code",
   "execution_count": 9,
   "metadata": {},
   "outputs": [],
   "source": [
    "import csv\n",
    "\n",
    "# Load Titanic dataset using CSV module\n",
    "titanic_data = []\n",
    "with open('Titanic-Dataset.csv', 'r') as file:\n",
    "    reader = csv.DictReader(file)\n",
    "    for row in reader:\n",
    "        titanic_data.append(row)\n"
   ]
  },
  {
   "cell_type": "code",
   "execution_count": 11,
   "metadata": {},
   "outputs": [],
   "source": [
    "\n",
    "# Perform basic preprocessing\n",
    "for entry in titanic_data:\n",
    "    entry['Age'] = float(entry['Age']) if entry['Age'] else 0.0\n",
    "    entry['Fare'] = float(entry['Fare']) if entry['Fare'] else 0.0\n",
    "    entry['Survived'] = int(entry['Survived'])\n"
   ]
  },
  {
   "cell_type": "code",
   "execution_count": 15,
   "metadata": {},
   "outputs": [],
   "source": [
    "\n",
    "# Define decision tree model\n",
    "def build_tree(data, features):\n",
    "    # Calculate the impurity of the current node\n",
    "    def impurity(data):\n",
    "        total = len(data)\n",
    "        survived = sum(1 for entry in data if entry['Survived'] == 1)\n",
    "        not_survived = total - survived\n",
    "        if total == 0:  # Check for division by zero\n",
    "            return 0\n",
    "        survival_rate = max(survived, not_survived) / total\n",
    "        return 1 - survival_rate ** 2 - (1 - survival_rate) ** 2\n",
    "\n",
    "    # Recursive function to split data and build tree\n",
    "    def split(node, depth):\n",
    "        if depth >= max_depth or len(node['data']) < min_samples_split:\n",
    "            return\n",
    "        best_impurity = float('inf')\n",
    "        best_feature = None\n",
    "        best_threshold = None\n",
    "        for feature in features:\n",
    "            values = set(entry[feature] for entry in node['data'])\n",
    "            for value in values:\n",
    "                left_data = [entry for entry in node['data'] if entry[feature] <= value]\n",
    "                right_data = [entry for entry in node['data'] if entry[feature] > value]\n",
    "                impurity_gain = impurity(node['data']) - (len(left_data) / len(node['data'])) * impurity(left_data) - (len(right_data) / len(node['data'])) * impurity(right_data)\n",
    "                if impurity_gain < best_impurity:\n",
    "                    best_impurity = impurity_gain\n",
    "                    best_feature = feature\n",
    "                    best_threshold = value\n",
    "        if best_feature is None:\n",
    "            return\n",
    "        node['feature'] = best_feature\n",
    "        node['threshold'] = best_threshold\n",
    "        node['left'] = {'data': [entry for entry in node['data'] if entry[best_feature] <= best_threshold]}\n",
    "        node['right'] = {'data': [entry for entry in node['data'] if entry[best_feature] > best_threshold]}\n",
    "        del node['data']\n",
    "        split(node['left'], depth + 1)\n",
    "        split(node['right'], depth + 1)\n",
    "\n",
    "    max_depth = 5\n",
    "    min_samples_split = 10\n",
    "\n",
    "    root = {'data': data}\n",
    "    split(root, 0)\n",
    "    return root\n"
   ]
  },
  {
   "cell_type": "code",
   "execution_count": 16,
   "metadata": {},
   "outputs": [],
   "source": [
    "\n",
    "# Define prediction function\n",
    "def predict(tree, entry):\n",
    "    def extract_numerical_features(entry):\n",
    "        return {k: v for k, v in entry.items() if isinstance(v, (int, float))}\n",
    "\n",
    "    if 'data' in tree:\n",
    "        return max(0, min(1, sum(extract_numerical_features(entry).values()) / len(extract_numerical_features(entry))))  # Dummy prediction for demo\n",
    "    if entry[tree['feature']] <= tree['threshold']:\n",
    "        return predict(tree['left'], entry)\n",
    "    else:\n",
    "        return predict(tree['right'], entry)\n"
   ]
  },
  {
   "cell_type": "code",
   "execution_count": 17,
   "metadata": {},
   "outputs": [],
   "source": [
    "\n",
    "# Define features and build tree model\n",
    "features = ['Age', 'Sex', 'Pclass', 'Fare']\n",
    "tree_model = build_tree(titanic_data, features)\n"
   ]
  },
  {
   "cell_type": "code",
   "execution_count": 18,
   "metadata": {},
   "outputs": [
    {
     "name": "stdout",
     "output_type": "stream",
     "text": [
      "1\n"
     ]
    }
   ],
   "source": [
    "\n",
    "# Example usage: make predictions for new data points\n",
    "new_entry = {'Age': 25, 'Sex': 'female', 'Pclass': 2, 'Fare': 50}\n",
    "prediction = predict(tree_model, new_entry)\n",
    "print(prediction)\n",
    "\n"
   ]
  }
 ],
 "metadata": {
  "kernelspec": {
   "display_name": "Python 3",
   "language": "python",
   "name": "python3"
  },
  "language_info": {
   "codemirror_mode": {
    "name": "ipython",
    "version": 3
   },
   "file_extension": ".py",
   "mimetype": "text/x-python",
   "name": "python",
   "nbconvert_exporter": "python",
   "pygments_lexer": "ipython3",
   "version": "3.12.1"
  }
 },
 "nbformat": 4,
 "nbformat_minor": 2
}
